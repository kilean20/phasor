{
 "cells": [
  {
   "cell_type": "code",
   "execution_count": 1,
   "id": "4336966c",
   "metadata": {},
   "outputs": [],
   "source": [
    "import sys\n",
    "sys.path.insert(0, '/home/hwang/libIPS')"
   ]
  },
  {
   "cell_type": "code",
   "execution_count": 2,
   "id": "c55937af",
   "metadata": {},
   "outputs": [],
   "source": [
    "from simulate_single_cavity import simulate_single_cavity\n",
    "from beam import Particle"
   ]
  },
  {
   "cell_type": "code",
   "execution_count": 3,
   "id": "b37be8a7",
   "metadata": {},
   "outputs": [],
   "source": [
    "import numpy as np\n",
    "from numpy.random import SeedSequence, default_rng\n",
    "from scipy.optimize import differential_evolution, minimize_scalar, minimize\n",
    "import pandas as pd\n",
    "import matplotlib.pyplot as plt\n",
    "from multiprocessing import Pool\n",
    "import os\n",
    "import pickle"
   ]
  },
  {
   "cell_type": "code",
   "execution_count": 4,
   "id": "6cfba2ec",
   "metadata": {},
   "outputs": [
    {
     "data": {
      "text/plain": [
       "0.02193436121138441"
      ]
     },
     "execution_count": 4,
     "metadata": {},
     "output_type": "execute_result"
    }
   ],
   "source": [
    "import psutil\n",
    "svmem = psutil.virtual_memory()\n",
    "\n",
    "def get_mem_usage():\n",
    "    svmem = psutil.virtual_memory()\n",
    "    return svmem.used/svmem.available\n",
    "\n",
    "get_mem_usage()"
   ]
  },
  {
   "cell_type": "code",
   "execution_count": 5,
   "id": "60f2a104",
   "metadata": {},
   "outputs": [],
   "source": [
    "beam_frequency = 80.5e6\n",
    "wavelength = 299792458 / beam_frequency\n",
    "phase_scan = np.arange(256)/256*2*np.pi-np.pi"
   ]
  },
  {
   "cell_type": "code",
   "execution_count": 6,
   "id": "f3335091",
   "metadata": {},
   "outputs": [
    {
     "name": "stdout",
     "output_type": "stream",
     "text": [
      "QWR041\n",
      "  W_u_range              [450000.0, 3500000.0]\n",
      "  field_amplitude_range  [0.0, 6.0]\n",
      "  cav_length             0.24\n",
      "  qA_range               [0.1, 0.6]\n",
      "  nLEVEL                 16\n",
      "QWR085\n",
      "  W_u_range              [1000000.0, 33000000.0]\n",
      "  field_amplitude_range  [0.0, 6.0]\n",
      "  cav_length             0.32\n",
      "  qA_range               [0.1, 0.6]\n",
      "  nLEVEL                 16\n",
      "QWR029\n",
      "  W_u_range              [12000000.0, 75000000.0]\n",
      "  field_amplitude_range  [0.0, 8.0]\n",
      "  cav_length             0.33\n",
      "  qA_range               [0.2, 0.6]\n",
      "  nLEVEL                 4\n",
      "QWR053\n",
      "  W_u_range              [35000000.0, 320000000.0]\n",
      "  field_amplitude_range  [0.0, 8.0]\n",
      "  cav_length             0.49\n",
      "  qA_range               [0.2, 0.6]\n",
      "  nLEVEL                 4\n",
      "MGB\n",
      "  W_u_range              [10000000.0, 30000000.0]\n",
      "  field_amplitude_range  [0.0, 8.5]\n",
      "  cav_length             1.2\n",
      "  qA_range               [0.2, 0.6]\n",
      "  nLEVEL                 4\n"
     ]
    }
   ],
   "source": [
    "from info import info\n",
    "for k,v in info.items():\n",
    "    print(k)\n",
    "    for k_,v_ in v.items():\n",
    "        print(' ',k_+' '*(22-len(k_)),v_)"
   ]
  },
  {
   "cell_type": "code",
   "execution_count": 7,
   "id": "6868df2c",
   "metadata": {},
   "outputs": [],
   "source": [
    "cav_type_name = 'QWR085' \n",
    "W_u_range = info[cav_type_name]['W_u_range']\n",
    "field_amplitude_range = info[cav_type_name]['field_amplitude_range']\n",
    "qA_range = info[cav_type_name]['qA_range']\n",
    "cav_length = info[cav_type_name]['cav_length']\n",
    "nLEVEL = info[cav_type_name]['nLEVEL']"
   ]
  },
  {
   "cell_type": "code",
   "execution_count": 8,
   "id": "212310f3",
   "metadata": {},
   "outputs": [],
   "source": [
    "def gamma2beta(gamma):\n",
    "    return (1.-1./gamma**2)**0.5\n",
    "\n",
    "def beta2gamma(beta):\n",
    "    return (1./(1.-beta**2))**0.5"
   ]
  },
  {
   "cell_type": "code",
   "execution_count": 9,
   "id": "102bdfd5",
   "metadata": {},
   "outputs": [],
   "source": [
    "def Wu2beta(w_u):\n",
    "    gamma = 1.+w_u/931.5e6\n",
    "    return np.sqrt(1.0 - 1.0 / gamma ** 2)\n",
    "\n",
    "def beta2Wu(beta):\n",
    "    gamma = np.sqrt(1./(1.-beta**2))\n",
    "    return (gamma-1.)*931.5e6"
   ]
  },
  {
   "cell_type": "code",
   "execution_count": 10,
   "id": "e8fbe587",
   "metadata": {
    "scrolled": true
   },
   "outputs": [],
   "source": [
    "model = simulate_single_cavity(cav_type_name)\n",
    "cavity = model.cavity\n",
    "assert cavity.length == cav_length"
   ]
  },
  {
   "cell_type": "code",
   "execution_count": 11,
   "id": "9f73fb05",
   "metadata": {},
   "outputs": [
    {
     "name": "stdout",
     "output_type": "stream",
     "text": [
      "name :  QWR085\n",
      "zc :  0.0\n",
      "phase :  0.0\n",
      "offset :  0.0\n",
      "beam_beta :  0.0\n",
      "_model :  Cavity Model from \"/home/hwang/libIPS//data//fieldmaps//Ez085.txt\" with length = 0.32 m, f = 80.5 MHz\n",
      "_on :  True\n",
      "length :  0.32\n",
      "frequency :  80500000.0\n",
      "type :  /home/hwang/libIPS//data//fieldmaps//Ez085.txt\n",
      "scale :  1.0\n",
      "is_on :  1\n",
      "is_off :  0\n",
      "field_amplitude :  0.0\n",
      "synchronous_phase :  0.0\n",
      "lo :  0.5\n",
      "lolo :  0.0\n",
      "hi :  8.0\n",
      "hihi :  8.0\n"
     ]
    }
   ],
   "source": [
    "for key,val in cavity.__dict__.items():\n",
    "    print(key, \": \",val)"
   ]
  },
  {
   "cell_type": "code",
   "execution_count": 12,
   "id": "121eb966",
   "metadata": {},
   "outputs": [],
   "source": [
    "def get_input_sample(W_u_range):\n",
    "    w_u,amplitude = np.random.rand(2)\n",
    "    w_u = w_u*(W_u_range[1]-W_u_range[0]) + W_u_range[0]\n",
    "    amplitude *= field_amplitude_range[1] + 0.01\n",
    "    qA = np.random.rand()*(qA_range[1]-qA_range[0])+qA_range[0]\n",
    "    return w_u,amplitude,qA"
   ]
  },
  {
   "cell_type": "code",
   "execution_count": 13,
   "id": "a2b15f8e",
   "metadata": {},
   "outputs": [],
   "source": [
    "def track(phase,w_u,amplitude,qA,method,phase_offset=0,model=model,test=False):\n",
    "    A = 100\n",
    "    Q = qA*A\n",
    "    if model is None:\n",
    "        model = simulate_single_cavity(cav_type_name)\n",
    "    cavity = model.cavity\n",
    "    cavity.phase = phase\n",
    "    cavity.offset = phase_offset\n",
    "    cavity.field_amplitude = amplitude\n",
    "    particle = Particle(A,Q,w_u)\n",
    "    particle.z = 0\n",
    "    particle.tau = 0\n",
    "    particle.W = w_u*A   \n",
    "    if test:\n",
    "        pass\n",
    "    else:\n",
    "        model(particle, model.cavity,method=method)\n",
    "    p = particle\n",
    "    dWu = p.W/A -w_u\n",
    "    dTau = p.tau - 2*np.pi*cav_length / (p.beta*wavelength)\n",
    "    return dTau, dWu"
   ]
  },
  {
   "cell_type": "code",
   "execution_count": 14,
   "id": "9bc01b5e",
   "metadata": {},
   "outputs": [],
   "source": [
    "import timeit\n",
    "import time\n",
    "\n",
    "def _template_func(setup, func):\n",
    "    \"\"\"Create a timer function. Used if the \"statement\" is a callable.\"\"\"\n",
    "    def inner(_it, _timer, _func=func):\n",
    "        setup()\n",
    "        _t0 = _timer()\n",
    "        for _i in _it:\n",
    "            retval = _func()\n",
    "        _t1 = _timer()\n",
    "        return _t1 - _t0, retval\n",
    "    return inner\n",
    "\n",
    "timeit._template_func = _template_func"
   ]
  },
  {
   "cell_type": "code",
   "execution_count": 15,
   "id": "3980deac",
   "metadata": {},
   "outputs": [],
   "source": [
    "# overhead time cost\n",
    "def test():\n",
    "    w_u, amplitude, qA = get_input_sample(W_u_range)\n",
    "    phase = np.random.rand()*2*np.pi-np.pi\n",
    "    # for phase in phase_scan:\n",
    "    _ = track(phase, w_u, amplitude, qA, method='TTF1',model=model,test=True)  \n",
    "t = timeit.Timer(test)\n",
    "t_overhead = t.timeit(number=100000)/100000"
   ]
  },
  {
   "cell_type": "code",
   "execution_count": 16,
   "id": "6d905678",
   "metadata": {},
   "outputs": [
    {
     "name": "stdout",
     "output_type": "stream",
     "text": [
      "TTF1: 10.198854375630617 micro-sec\n"
     ]
    }
   ],
   "source": [
    "def test():\n",
    "    w_u, amplitude, qA = get_input_sample(W_u_range)\n",
    "    phase = np.random.rand()*2*np.pi-np.pi\n",
    "    # for phase in phase_scan:\n",
    "    _ = track(phase, w_u, amplitude, qA, method='TTF1',model=model)  \n",
    "t = timeit.Timer(test)\n",
    "tTTF1 = t.timeit(number=100000)/100000 - t_overhead\n",
    "print('TTF1:',tTTF1*1e6,'micro-sec')"
   ]
  },
  {
   "cell_type": "code",
   "execution_count": 17,
   "id": "cd7723f2",
   "metadata": {},
   "outputs": [
    {
     "name": "stdout",
     "output_type": "stream",
     "text": [
      "TTF2: 32.83296562731265 micro-sec\n"
     ]
    }
   ],
   "source": [
    "def test():\n",
    "    w_u, amplitude, qA = get_input_sample(W_u_range)\n",
    "    phase = np.random.rand()*2*np.pi-np.pi\n",
    "    # for phase in phase_scan:\n",
    "    _ = track(phase, w_u, amplitude, qA, method='TTF2',model=model)  \n",
    "t = timeit.Timer(test)\n",
    "tTTF2 = t.timeit(number=100000)/100000 - t_overhead\n",
    "print('TTF2:',tTTF2*1e6,'micro-sec')"
   ]
  },
  {
   "cell_type": "code",
   "execution_count": null,
   "id": "20c9d04e",
   "metadata": {},
   "outputs": [],
   "source": [
    "def test():\n",
    "    w_u, amplitude, qA = get_input_sample(W_u_range)\n",
    "    phase = np.random.rand()*2*np.pi-np.pi\n",
    "    # for phase in phase_scan:\n",
    "    _ = track(phase, w_u, amplitude, qA, method='realistic',model=model)  \n",
    "t = timeit.Timer(test)\n",
    "tRealistic = t.timeit(number=10000)/10000 - t_overhead\n",
    "print('Realistic:',tRealistic*1e3,'msec')"
   ]
  },
  {
   "cell_type": "code",
   "execution_count": null,
   "id": "e72e687b",
   "metadata": {},
   "outputs": [],
   "source": [
    "def get_single_data(w_u,amplitude,qA,method,phase_scan=phase_scan,model=model):\n",
    "    dTau = np.zeros(len(phase_scan))\n",
    "    dW_u = np.zeros(len(phase_scan))\n",
    "    for i,phase in enumerate(phase_scan):\n",
    "        dTau[i], dW_u[i] = track(phase,w_u,amplitude,qA,method,0,model=model)\n",
    "    return dTau, dW_u"
   ]
  },
  {
   "cell_type": "code",
   "execution_count": null,
   "id": "88c81fa1",
   "metadata": {},
   "outputs": [],
   "source": [
    "class construct_data_generator:\n",
    "    def __init__(self,W_u_range,phase_scan=phase_scan):\n",
    "        self.W_u_range = W_u_range\n",
    "        self.phase_scan = phase_scan\n",
    "    def __call__(self,n):\n",
    "        np.random.seed(int.from_bytes(os.urandom(4), byteorder='little'))\n",
    "        phase_scan = self.phase_scan\n",
    "        data = {}\n",
    "        nScan = len(phase_scan)\n",
    "        for key in ['phase','W/u in','Cav amplitude in','qA','dTau','dW_u']:\n",
    "            data[key] = np.zeros(n*nScan)\n",
    "        model = simulate_single_cavity(cav_type_name)\n",
    "        i = 0\n",
    "        while(i<n):\n",
    "            w_u, amplitude, qA = get_input_sample(self.W_u_range)\n",
    "            i1 = i*nScan\n",
    "            i2 = (i+1)*nScan\n",
    "            data['phase'][i1:i2] = phase_scan\n",
    "            data['W/u in'][i1:i2] = w_u\n",
    "            data['Cav amplitude in'][i1:i2] = amplitude\n",
    "            data['qA'][i1:i2] = qA\n",
    "            data['dTau'][i1:i2], data['dW_u'][i1:i2] = get_single_data(w_u,amplitude,qA,'realistic',phase_scan,\n",
    "                                                                   model=model)\n",
    "            i+=1\n",
    "        return data"
   ]
  },
  {
   "cell_type": "markdown",
   "id": "52a427fa",
   "metadata": {},
   "source": [
    "# check"
   ]
  },
  {
   "cell_type": "code",
   "execution_count": null,
   "id": "032490f6",
   "metadata": {},
   "outputs": [],
   "source": [
    "sampler = construct_data_generator(W_u_range)\n",
    "nScan = len(phase_scan)\n",
    "data = sampler(4)\n",
    "\n",
    "fig,ax = plt.subplots(1,2,figsize=(8,2))\n",
    "for i in range(4):\n",
    "    i1 = i*nScan\n",
    "    i2 = (i+1)*nScan\n",
    "    ax[0].plot(data['phase'][i1:i2],data['dTau'][i1:i2]/np.pi*180)\n",
    "    ax[1].plot(data['phase'][i1:i2],data['dW_u'][i1:i2]*1e-3)\n",
    "ax[0].set_xlabel('phase');\n",
    "ax[1].set_xlabel('phase');\n",
    "ax[0].set_ylabel('dTau (deg)');\n",
    "ax[1].set_ylabel('dW_u (keV)');\n",
    "fig.tight_layout()"
   ]
  },
  {
   "cell_type": "markdown",
   "id": "442cfe22",
   "metadata": {},
   "source": [
    "# gen_data"
   ]
  },
  {
   "cell_type": "code",
   "execution_count": null,
   "id": "3b4fbb97",
   "metadata": {},
   "outputs": [],
   "source": [
    "def ListData2FlatData(ListData):\n",
    "    flat_data = {}\n",
    "    for key in ['phase','W/u in','Cav amplitude in','qA','dTau','dW_u']:\n",
    "        flat_data[key] = np.concatenate([tmp[key] for tmp in ListData])\n",
    "    return flat_data"
   ]
  },
  {
   "cell_type": "code",
   "execution_count": null,
   "id": "08ece12e",
   "metadata": {},
   "outputs": [],
   "source": [
    "Np = 32\n",
    "dW_LEVEL = (W_u_range[1]-W_u_range[0])/nLEVEL\n",
    "\n",
    "for i in range(nLEVEL):\n",
    "    W_u_min = W_u_range[0] +i*dW_LEVEL - 0.1*dW_LEVEL\n",
    "    W_u_max = W_u_range[0] +i*dW_LEVEL + 1.1*dW_LEVEL\n",
    "    sampler = construct_data_generator([W_u_min,W_u_max])\n",
    "    ListData = []\n",
    "    fname = cav_type_name+'_pd'+str(i)+'.pkl'\n",
    "    for j in range(4):\n",
    "        with Pool(Np) as p:\n",
    "            ListData +=  p.map(sampler, [4096]*Np)\n",
    "        print(i, j, get_mem_usage())\n",
    "        pickle.dump(ListData2FlatData(ListData),open(fname,'wb'))"
   ]
  }
 ],
 "metadata": {
  "kernelspec": {
   "display_name": "Python 3 (ipykernel)",
   "language": "python",
   "name": "python3"
  },
  "language_info": {
   "codemirror_mode": {
    "name": "ipython",
    "version": 3
   },
   "file_extension": ".py",
   "mimetype": "text/x-python",
   "name": "python",
   "nbconvert_exporter": "python",
   "pygments_lexer": "ipython3",
   "version": "3.10.12"
  }
 },
 "nbformat": 4,
 "nbformat_minor": 5
}
