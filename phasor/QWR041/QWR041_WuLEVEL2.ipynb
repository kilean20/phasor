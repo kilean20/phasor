{
 "cells": [
  {
   "cell_type": "code",
   "execution_count": 1,
   "id": "3d792953",
   "metadata": {
    "_cell_guid": "b1076dfc-b9ad-4769-8c92-a6c4dae69d19",
    "_uuid": "8f2839f25d086af736a60e9eeb907d3b93b6e0e5",
    "execution": {
     "iopub.execute_input": "2023-03-26T23:48:24.987101Z",
     "iopub.status.busy": "2023-03-26T23:48:24.986464Z",
     "iopub.status.idle": "2023-03-26T23:48:29.527726Z",
     "shell.execute_reply": "2023-03-26T23:48:29.525104Z"
    },
    "papermill": {
     "duration": 4.560568,
     "end_time": "2023-03-26T23:48:29.532368",
     "exception": false,
     "start_time": "2023-03-26T23:48:24.971800",
     "status": "completed"
    },
    "tags": []
   },
   "outputs": [],
   "source": [
    "import numpy as np\n",
    "import matplotlib.pyplot as plt\n",
    "import sklearn\n",
    "import pandas as pd\n",
    "import time\n",
    "import os\n",
    "import pickle\n",
    "import json\n",
    "import timeit\n",
    "import datetime\n",
    "from copy import deepcopy as copy"
   ]
  },
  {
   "cell_type": "code",
   "execution_count": 2,
   "id": "03473832",
   "metadata": {},
   "outputs": [
    {
     "data": {
      "text/plain": [
       "device(type='cuda', index=2)"
      ]
     },
     "execution_count": 2,
     "metadata": {},
     "output_type": "execute_result"
    }
   ],
   "source": [
    "import torch\n",
    "from torch.nn import functional as F\n",
    "torch.cuda.empty_cache()\n",
    "DTYPE = torch.float32\n",
    "DEVICE = torch.device(\"cuda:2\" if torch.cuda.is_available() else \"cpu\")\n",
    "DEVICE"
   ]
  },
  {
   "cell_type": "code",
   "execution_count": 3,
   "id": "c29b050c",
   "metadata": {},
   "outputs": [],
   "source": [
    "import sys\n",
    "sys.path.append('../../')"
   ]
  },
  {
   "cell_type": "code",
   "execution_count": 4,
   "id": "de148cf5",
   "metadata": {},
   "outputs": [],
   "source": [
    "import IPS_surrogate_util as util"
   ]
  },
  {
   "cell_type": "code",
   "execution_count": 5,
   "id": "7f887ecb",
   "metadata": {},
   "outputs": [],
   "source": [
    "beam_frequency = 80.5e6\n",
    "wavelength = 299792458 / beam_frequency\n",
    "phase_scan = np.arange(256)/256*2*np.pi-np.pi\n",
    "\n",
    "cav_type_name = 'QWR041' "
   ]
  },
  {
   "cell_type": "code",
   "execution_count": 6,
   "id": "7328326b",
   "metadata": {},
   "outputs": [],
   "source": [
    "WuLEVEL = 2\n",
    "TEST = False\n",
    "\n",
    "BATCH_SIZE = 2**13 #8192\n",
    "LR = '1E-4'\n",
    "DROPOUT = False\n",
    "\n",
    "validation_split = 0.3\n",
    "hidden_nodes = [128,64,64,64,64]\n",
    "linear_nodes = 256\n",
    "activation = torch.nn.ELU()\n",
    "\n",
    "lr_scheduler = {'final_div_factor':1e3}"
   ]
  },
  {
   "cell_type": "code",
   "execution_count": 7,
   "id": "673a76a2",
   "metadata": {},
   "outputs": [
    {
     "name": "stdout",
     "output_type": "stream",
     "text": [
      "QWR041\n",
      "  W_u_range              [450000.0, 3500000.0]\n",
      "  field_amplitude_range  [0.0, 6.0]\n",
      "  cav_length             0.24\n",
      "  qA_range               [0.1, 0.6]\n",
      "  nLEVEL                 16\n",
      "QWR085\n",
      "  W_u_range              [1000000.0, 33000000.0]\n",
      "  field_amplitude_range  [0.0, 6.0]\n",
      "  cav_length             0.32\n",
      "  qA_range               [0.1, 0.6]\n",
      "  nLEVEL                 16\n",
      "QWR029\n",
      "  W_u_range              [12000000.0, 75000000.0]\n",
      "  field_amplitude_range  [0.0, 8.0]\n",
      "  cav_length             0.33\n",
      "  qA_range               [0.2, 0.6]\n",
      "  nLEVEL                 4\n",
      "QWR053\n",
      "  W_u_range              [35000000.0, 320000000.0]\n",
      "  field_amplitude_range  [0.0, 8.0]\n",
      "  cav_length             0.49\n",
      "  qA_range               [0.2, 0.6]\n",
      "  nLEVEL                 4\n",
      "MGB\n",
      "  W_u_range              [10000000.0, 30000000.0]\n",
      "  field_amplitude_range  [0.0, 8.5]\n",
      "  cav_length             1.2\n",
      "  qA_range               [0.2, 0.6]\n",
      "  nLEVEL                 4\n"
     ]
    }
   ],
   "source": [
    "import sys\n",
    "sys.path.insert(0, '/home/hwang/libIPS')\n",
    "\n",
    "from info import info\n",
    "for k,v in info.items():\n",
    "    print(k)\n",
    "    for k_,v_ in v.items():\n",
    "        print(' ',k_+' '*(22-len(k_)),v_)"
   ]
  },
  {
   "cell_type": "code",
   "execution_count": 8,
   "id": "8d9afacc",
   "metadata": {},
   "outputs": [],
   "source": [
    "W_u_range = info[cav_type_name]['W_u_range']\n",
    "field_amplitude_range = info[cav_type_name]['field_amplitude_range']\n",
    "qA_range = info[cav_type_name]['qA_range']\n",
    "cav_length = info[cav_type_name]['cav_length']\n",
    "nLEVEL = info[cav_type_name]['nLEVEL']"
   ]
  },
  {
   "cell_type": "code",
   "execution_count": 9,
   "id": "9b5dd90f",
   "metadata": {},
   "outputs": [],
   "source": [
    "dW_LEVEL = (W_u_range[1]-W_u_range[0])/nLEVEL\n",
    "W_u_min = W_u_range[0] +WuLEVEL*dW_LEVEL \n",
    "W_u_max = W_u_range[0] +WuLEVEL*dW_LEVEL + 1.0*dW_LEVEL"
   ]
  },
  {
   "cell_type": "code",
   "execution_count": 10,
   "id": "36755801",
   "metadata": {
    "execution": {
     "iopub.execute_input": "2023-03-26T23:48:44.206101Z",
     "iopub.status.busy": "2023-03-26T23:48:44.205613Z",
     "iopub.status.idle": "2023-03-26T23:48:44.213305Z",
     "shell.execute_reply": "2023-03-26T23:48:44.210755Z"
    },
    "papermill": {
     "duration": 0.024453,
     "end_time": "2023-03-26T23:48:44.216844",
     "exception": false,
     "start_time": "2023-03-26T23:48:44.192391",
     "status": "completed"
    },
    "tags": []
   },
   "outputs": [],
   "source": [
    "DATA_PATH = \"./data/\"\n",
    "MODEL_PATH = \"./WuLEVEL\"+str(WuLEVEL)#+\"_batchsize\"+str(BATCH_SIZE)+\"_lr\"+LR+'_'+'dtype'+str(DTYPE)[-2:]\n",
    "if DTYPE == torch.float64:\n",
    "    MODEL_PATH += '_dtype'+str(DTYPE)[-2:]\n",
    "MODEL_PATH += '/'\n",
    "LR = float(LR)\n",
    "os.makedirs(MODEL_PATH, exist_ok=True)"
   ]
  },
  {
   "cell_type": "code",
   "execution_count": 11,
   "id": "8d1d4d25",
   "metadata": {
    "execution": {
     "iopub.execute_input": "2023-03-26T23:48:44.240420Z",
     "iopub.status.busy": "2023-03-26T23:48:44.239971Z",
     "iopub.status.idle": "2023-03-26T23:48:44.248341Z",
     "shell.execute_reply": "2023-03-26T23:48:44.246407Z"
    },
    "papermill": {
     "duration": 0.024354,
     "end_time": "2023-03-26T23:48:44.251685",
     "exception": false,
     "start_time": "2023-03-26T23:48:44.227331",
     "status": "completed"
    },
    "tags": []
   },
   "outputs": [],
   "source": [
    "EPOCHs = 6000  # may increase later... \n",
    "if TEST:\n",
    "    EPOCHs = 100 #int(0.01*EPOCHs)"
   ]
  },
  {
   "cell_type": "code",
   "execution_count": 12,
   "id": "99c3d653",
   "metadata": {
    "execution": {
     "iopub.execute_input": "2023-03-26T23:49:23.541235Z",
     "iopub.status.busy": "2023-03-26T23:49:23.540774Z",
     "iopub.status.idle": "2023-03-26T23:49:23.548881Z",
     "shell.execute_reply": "2023-03-26T23:49:23.546926Z"
    },
    "papermill": {
     "duration": 0.026282,
     "end_time": "2023-03-26T23:49:23.553089",
     "exception": false,
     "start_time": "2023-03-26T23:49:23.526807",
     "status": "completed"
    },
    "tags": []
   },
   "outputs": [],
   "source": [
    "def Wu2beta(w_u):\n",
    "    gamma = 1.+w_u/931.5e6\n",
    "    return np.sqrt(1.0 - 1.0 / gamma ** 2)\n",
    "def beta2Wu(beta):\n",
    "    gamma = np.sqrt(1./(1.-beta**2))\n",
    "    return (gamma-1.)*931.5e6"
   ]
  },
  {
   "cell_type": "markdown",
   "id": "3d08464e",
   "metadata": {
    "papermill": {
     "duration": 0.010799,
     "end_time": "2023-03-26T23:48:44.408486",
     "exception": false,
     "start_time": "2023-03-26T23:48:44.397687",
     "status": "completed"
    },
    "tags": []
   },
   "source": [
    "# Read data of selected Wu level"
   ]
  },
  {
   "cell_type": "code",
   "execution_count": 13,
   "id": "b8f9f864",
   "metadata": {},
   "outputs": [
    {
     "data": {
      "text/plain": [
       "Index(['phase', 'W/u in', 'Cav amplitude in', 'qA', 'dTau', 'dW_u'], dtype='object')"
      ]
     },
     "execution_count": 13,
     "metadata": {},
     "output_type": "execute_result"
    }
   ],
   "source": [
    "fname = os.path.join(DATA_PATH,cav_type_name+'_pd'+str(WuLEVEL)+'.pkl')\n",
    "# fname = os.path.join('./',cav_type_name+'_pd'+str(WuLEVEL)+'.pkl')\n",
    "df = pd.DataFrame(pickle.load(open(fname,'rb')))\n",
    "df.columns"
   ]
  },
  {
   "cell_type": "markdown",
   "id": "eb668f5d",
   "metadata": {},
   "source": [
    "### construct minmax scalar"
   ]
  },
  {
   "cell_type": "code",
   "execution_count": 14,
   "id": "237c6454",
   "metadata": {},
   "outputs": [
    {
     "name": "stdout",
     "output_type": "stream",
     "text": [
      "Y_LABELs ['dTau', 'dW_u']\n",
      "Y_MIN [-3.48643160e+00 -5.63783668e+05]\n",
      "Y_MAX [1.04345987e+00 5.62778146e+05]\n",
      "y.shape (134217728, 2)\n"
     ]
    }
   ],
   "source": [
    "Y_LABELs = ['dTau', 'dW_u']\n",
    "y = df[Y_LABELs].values\n",
    "\n",
    "Y_MIN = y.min(axis=0) #util.format_floats(y.min(axis=0),num_digits=4)\n",
    "Y_MAX = y.max(axis=0) #util.format_floats(y.max(axis=0),num_digits=4)\n",
    "print(\"Y_LABELs\",Y_LABELs)\n",
    "print(\"Y_MIN\",Y_MIN)\n",
    "print(\"Y_MAX\",Y_MAX)\n",
    "print(\"y.shape\",y.shape)"
   ]
  },
  {
   "cell_type": "code",
   "execution_count": 15,
   "id": "a1f28686",
   "metadata": {},
   "outputs": [
    {
     "name": "stdout",
     "output_type": "stream",
     "text": [
      "X_LABELs ['phase', 'W/u in', 'Cav amplitude in', 'qA']\n",
      "X_MIN [0, 831250.0, 0, 0.1]\n",
      "X_MAX [1, 1021875.0, 6.0, 0.6]\n"
     ]
    }
   ],
   "source": [
    "X_LABELs = ['phase', 'W/u in', 'Cav amplitude in', 'qA']\n",
    "x = df[X_LABELs].values\n",
    "\n",
    "X_MIN = [ 0,W_u_min,                       0, qA_range[0]]\n",
    "X_MAX = [ 1,W_u_max,field_amplitude_range[1], qA_range[1]] \n",
    "\n",
    "print(\"X_LABELs\",X_LABELs)\n",
    "print(\"X_MIN\",X_MIN)\n",
    "print(\"X_MAX\",X_MAX)"
   ]
  },
  {
   "cell_type": "code",
   "execution_count": 16,
   "id": "967ba672",
   "metadata": {},
   "outputs": [],
   "source": [
    "normalization_info = {'xmin':X_MIN,'xmax':X_MAX,\n",
    "                      'ymin':Y_MIN,'ymax':Y_MAX,\n",
    "                      'fname':MODEL_PATH+'scalar_info.pkl'}\n",
    "scalar = util.scalar(**normalization_info)"
   ]
  },
  {
   "cell_type": "markdown",
   "id": "a9ce54f5",
   "metadata": {},
   "source": [
    "### apply normalization"
   ]
  },
  {
   "cell_type": "code",
   "execution_count": 17,
   "id": "9f9a1835",
   "metadata": {},
   "outputs": [],
   "source": [
    "# p = np.random.permutation(len(x))\n",
    "# x = x[p]\n",
    "# y = y[p]"
   ]
  },
  {
   "cell_type": "code",
   "execution_count": 18,
   "id": "5a6c5ef0",
   "metadata": {},
   "outputs": [
    {
     "data": {
      "text/plain": [
       "<matplotlib.legend.Legend at 0x7f5debc634f0>"
      ]
     },
     "execution_count": 18,
     "metadata": {},
     "output_type": "execute_result"
    },
    {
     "data": {
      "image/png": "[encoded data removed]",
      "text/plain": [
       "<Figure size 800x400 with 4 Axes>"
      ]
     },
     "metadata": {},
     "output_type": "display_data"
    }
   ],
   "source": [
    "xn = scalar.normalize_x(x)\n",
    "yn = scalar.normalize_y(y)\n",
    "fig,ax = plt.subplots(2,2,figsize=(8,4))\n",
    "ax[0,0].hist(xn[:,0],alpha=0.8,density=True,label=X_LABELs[0]);\n",
    "ax[0,0].legend()\n",
    "ax[0,1].hist(xn[:,1],alpha=0.4,density=True,label=X_LABELs[1]);\n",
    "ax[0,1].hist(xn[:,2],alpha=0.4,density=True,label=X_LABELs[2]);\n",
    "ax[0,1].hist(xn[:,3],alpha=0.8,density=True,label=X_LABELs[3]);\n",
    "ax[0,1].legend()\n",
    "ax[1,0].hist(yn[:,0],alpha=0.8,density=True,label=Y_LABELs[0]);\n",
    "ax[1,0].legend()\n",
    "ax[1,1].hist(yn[:,1],alpha=0.8,density=True,label=Y_LABELs[1]);\n",
    "ax[1,1].legend()"
   ]
  },
  {
   "cell_type": "markdown",
   "id": "948b6799",
   "metadata": {},
   "source": [
    "# Train "
   ]
  },
  {
   "cell_type": "code",
   "execution_count": 19,
   "id": "3eaae2c5",
   "metadata": {
    "execution": {
     "iopub.execute_input": "2023-03-26T23:49:25.776718Z",
     "iopub.status.busy": "2023-03-26T23:49:25.776154Z",
     "iopub.status.idle": "2023-03-26T23:49:25.902140Z",
     "shell.execute_reply": "2023-03-26T23:49:25.900011Z"
    },
    "papermill": {
     "duration": 0.142619,
     "end_time": "2023-03-26T23:49:25.905148",
     "exception": false,
     "start_time": "2023-03-26T23:49:25.762529",
     "status": "completed"
    },
    "tags": []
   },
   "outputs": [],
   "source": [
    "model, model_info = util.construct_model(\n",
    "                                        input_dim  = xn.shape[1],\n",
    "                                        output_dim  = yn.shape[1],\n",
    "                                        input_phase_feature_dim = 1,        \n",
    "                                        linear_nodes = linear_nodes,\n",
    "                                        hidden_nodes = hidden_nodes,\n",
    "                                        activation = activation)\n",
    "model.to(DEVICE).to(DTYPE);"
   ]
  },
  {
   "cell_type": "code",
   "execution_count": 20,
   "id": "dc475d8c",
   "metadata": {},
   "outputs": [
    {
     "data": {
      "text/plain": [
       "(torch.float32, device(type='cuda', index=2))"
      ]
     },
     "execution_count": 20,
     "metadata": {},
     "output_type": "execute_result"
    }
   ],
   "source": [
    "p = model.parameters().__next__()\n",
    "p.dtype, p.device"
   ]
  },
  {
   "cell_type": "code",
   "execution_count": 21,
   "id": "a45cd858",
   "metadata": {},
   "outputs": [
    {
     "data": {
      "text/plain": [
       "{'input_dim': 4,\n",
       " 'output_dim': 2,\n",
       " 'input_phase_feature_dim': 1,\n",
       " 'linear_nodes': [256],\n",
       " 'hidden_nodes': [128, 64, 64, 64, 64],\n",
       " 'activation': 'ELU'}"
      ]
     },
     "execution_count": 21,
     "metadata": {},
     "output_type": "execute_result"
    }
   ],
   "source": [
    "json.dump(model_info,open(MODEL_PATH+'model_info.json','w'))\n",
    "model_info"
   ]
  },
  {
   "cell_type": "code",
   "execution_count": 22,
   "id": "67537642",
   "metadata": {},
   "outputs": [
    {
     "data": {
      "text/plain": [
       "'MSELoss'"
      ]
     },
     "execution_count": 22,
     "metadata": {},
     "output_type": "execute_result"
    }
   ],
   "source": [
    "torch.nn.MSELoss.__name__"
   ]
  },
  {
   "cell_type": "code",
   "execution_count": 23,
   "id": "607b5eb1",
   "metadata": {},
   "outputs": [],
   "source": [
    "train_info = {\n",
    "    'epochs':EPOCHs,\n",
    "    'lr':LR,\n",
    "    'batch_size':BATCH_SIZE,\n",
    "    'criterion': torch.nn.MSELoss.__name__,\n",
    "    'optimizer': torch.optim.Adam.__name__,\n",
    "    'optim_args': None,\n",
    "    'lr_scheduler': lr_scheduler,\n",
    "    'dropout_stabilization': DROPOUT,\n",
    "    'shuffle':True,\n",
    "    'load_best':True,\n",
    "    'validation_split':validation_split,\n",
    "    'fname_model'  : MODEL_PATH + 'model.pt',\n",
    "    'fname_opt'    : MODEL_PATH + 'optimizer.pt',\n",
    "    'fname_history': MODEL_PATH + 'train_history.pkl'\\\n",
    "}"
   ]
  },
  {
   "cell_type": "code",
   "execution_count": null,
   "id": "bda48515",
   "metadata": {
    "scrolled": true
   },
   "outputs": [
    {
     "name": "stdout",
     "output_type": "stream",
     "text": [
      "Train Function Arguments: 2024-03-29 08:53\n",
      "  - model: _ModelWithPhaseInput\n",
      "  - x: (134217728, 4)\n",
      "  - y: (134217728, 2)\n",
      "  - epochs: 6000\n",
      "  - lr: 0.0001\n",
      "  - batch_size: 8192\n",
      "  - shuffle: True\n",
      "  - validation_split: 0.3\n",
      "  - criterion: MSELoss\n",
      "  - optimizer: Adam\n",
      "  - optim_args: None\n",
      "  - optimizer_state_dict: None\n",
      "  - lr_scheduler: {'final_div_factor': 1000.0}\n",
      "  - dropout_stabilization: False\n",
      "  - prev_history: None\n",
      "  - load_best: True\n",
      "  - training_timeout: inf\n",
      "  - verbose: True\n",
      "  - fname_model: ./WuLEVEL2/model.pt\n",
      "  - fname_opt: ./WuLEVEL2/optimizer.pt\n",
      "  - fname_history: ./WuLEVEL2/train_history.pkl\n",
      "\n",
      "Model Paramers:\n",
      "  - name: linear_base.0.weight, shape: torch.Size([256, 5]), dtype: torch.float32, device: cuda:2\n",
      "  - name: linear_base.0.bias, shape: torch.Size([256]), dtype: torch.float32, device: cuda:2\n",
      "  - name: linear_base.1.weight, shape: torch.Size([2, 256]), dtype: torch.float32, device: cuda:2\n",
      "  - name: linear_base.1.bias, shape: torch.Size([2]), dtype: torch.float32, device: cuda:2\n",
      "  - name: nonlinear_residual.0.weight, shape: torch.Size([128, 5]), dtype: torch.float32, device: cuda:2\n",
      "  - name: nonlinear_residual.0.bias, shape: torch.Size([128]), dtype: torch.float32, device: cuda:2\n",
      "  - name: nonlinear_residual.2.weight, shape: torch.Size([64, 128]), dtype: torch.float32, device: cuda:2\n",
      "  - name: nonlinear_residual.2.bias, shape: torch.Size([64]), dtype: torch.float32, device: cuda:2\n",
      "  - name: nonlinear_residual.4.weight, shape: torch.Size([64, 64]), dtype: torch.float32, device: cuda:2\n",
      "  - name: nonlinear_residual.4.bias, shape: torch.Size([64]), dtype: torch.float32, device: cuda:2\n",
      "  - name: nonlinear_residual.6.weight, shape: torch.Size([64, 64]), dtype: torch.float32, device: cuda:2\n",
      "  - name: nonlinear_residual.6.bias, shape: torch.Size([64]), dtype: torch.float32, device: cuda:2\n",
      "  - name: nonlinear_residual.8.weight, shape: torch.Size([64, 64]), dtype: torch.float32, device: cuda:2\n",
      "  - name: nonlinear_residual.8.bias, shape: torch.Size([64]), dtype: torch.float32, device: cuda:2\n",
      "  - name: nonlinear_residual.10.weight, shape: torch.Size([2, 64]), dtype: torch.float32, device: cuda:2\n",
      "  - name: nonlinear_residual.10.bias, shape: torch.Size([2]), dtype: torch.float32, device: cuda:2\n",
      "\n",
      "Training begin at:  2024-03-29 08:53\n",
      "\n",
      " Epoch 0000: | Train Loss: 6.71E-03 | Val Loss: 1.08E-04 | lr: 8.33E-06 | 0:00:30.127791\n",
      " Epoch 0001: | Train Loss: 2.95E-05 | Val Loss: 1.14E-05 | lr: 8.34E-06 | 0:00:57.276543\n",
      " Epoch 0002: | Train Loss: 7.90E-06 | Val Loss: 5.80E-06 | lr: 8.34E-06 | 0:01:25.858697\n",
      " Epoch 0003: | Train Loss: 4.64E-06 | Val Loss: 3.86E-06 | lr: 8.36E-06 | 0:01:56.489091\n",
      " Epoch 0004: | Train Loss: 3.28E-06 | Val Loss: 2.89E-06 | lr: 8.37E-06 | 0:02:23.245425\n",
      " Epoch 0005: | Train Loss: 2.50E-06 | Val Loss: 2.23E-06 | lr: 8.40E-06 | 0:02:50.793529\n",
      " Epoch 0006: | Train Loss: 1.98E-06 | Val Loss: 1.79E-06 | lr: 8.42E-06 | 0:03:22.416246\n",
      " Epoch 0007: | Train Loss: 1.60E-06 | Val Loss: 1.48E-06 | lr: 8.46E-06 | 0:03:52.621306\n",
      " Epoch 0008: | Train Loss: 1.34E-06 | Val Loss: 1.24E-06 | lr: 8.49E-06 | 0:04:20.675819\n",
      " Epoch 0009: | Train Loss: 1.15E-06 | Val Loss: 1.09E-06 | lr: 8.54E-06 | 0:04:47.472204\n",
      " Epoch 0010: | Train Loss: 1.01E-06 | Val Loss: 9.56E-07 | lr: 8.58E-06 | 0:05:14.762279\n",
      " Epoch 0011: | Train Loss: 8.97E-07 | Val Loss: 8.57E-07 | lr: 8.64E-06 | 0:05:46.013130\n",
      " Epoch 0012: | Train Loss: 8.07E-07 | Val Loss: 7.69E-07 | lr: 8.69E-06 | 0:06:24.780650\n",
      " Epoch 0013: | Train Loss: 7.35E-07 | Val Loss: 7.05E-07 | lr: 8.76E-06 | 0:06:55.679282\n",
      " Epoch 0014: | Train Loss: 6.76E-07 | Val Loss: 6.52E-07 | lr: 8.83E-06 | 0:07:24.032490\n",
      " Epoch 0015: | Train Loss: 6.26E-07 | Val Loss: 6.06E-07 | lr: 8.90E-06 | 0:07:52.470990\n",
      " Epoch 0016: | Train Loss: 5.85E-07 | Val Loss: 5.66E-07 | lr: 8.98E-06 | 0:08:23.783913\n",
      " Epoch 0017: | Train Loss: 5.49E-07 | Val Loss: 5.37E-07 | lr: 9.06E-06 | 0:08:49.687421\n",
      " Epoch 0018: | Train Loss: 5.18E-07 | Val Loss: 5.33E-07 | lr: 9.15E-06 | 0:09:16.310562\n",
      " Epoch 0019: | Train Loss: 4.92E-07 | Val Loss: 4.76E-07 | lr: 9.24E-06 | 0:09:42.408774\n",
      " Epoch 0020: | Train Loss: 4.69E-07 | Val Loss: 4.80E-07 | lr: 9.33E-06 | 0:10:08.365662\n",
      " Epoch 0021: | Train Loss: 4.48E-07 | Val Loss: 4.43E-07 | lr: 9.44E-06 | 0:10:35.397085\n",
      " Epoch 0022: | Train Loss: 4.29E-07 | Val Loss: 4.17E-07 | lr: 9.54E-06 | 0:11:01.088878\n",
      " Epoch 0023: | Train Loss: 4.13E-07 | Val Loss: 4.00E-07 | lr: 9.66E-06 | 0:11:27.674343\n",
      " Epoch 0024: | Train Loss: 3.97E-07 | Val Loss: 3.89E-07 | lr: 9.77E-06 | 0:11:54.273234\n",
      " Epoch 0025: | Train Loss: 3.84E-07 | Val Loss: 3.74E-07 | lr: 9.90E-06 | 0:12:23.244493\n",
      " Epoch 0026: | Train Loss: 3.71E-07 | Val Loss: 3.68E-07 | lr: 1.00E-05 | 0:12:50.070886\n",
      " Epoch 0027: | Train Loss: 3.58E-07 | Val Loss: 3.65E-07 | lr: 1.02E-05 | 0:13:15.823980\n",
      " Epoch 0028: | Train Loss: 3.47E-07 | Val Loss: 3.38E-07 | lr: 1.03E-05 | 0:13:41.202310\n",
      " Epoch 0029: | Train Loss: 3.37E-07 | Val Loss: 3.37E-07 | lr: 1.04E-05 | 0:14:06.894509\n",
      " Epoch 0030: | Train Loss: 3.27E-07 | Val Loss: 3.24E-07 | lr: 1.06E-05 | 0:14:34.271145\n",
      " Epoch 0031: | Train Loss: 3.18E-07 | Val Loss: 3.06E-07 | lr: 1.07E-05 | 0:15:00.812699\n",
      " Epoch 0032: | Train Loss: 3.10E-07 | Val Loss: 3.07E-07 | lr: 1.09E-05 | 0:15:28.234096\n",
      " Epoch 0033: | Train Loss: 3.02E-07 | Val Loss: 2.92E-07 | lr: 1.10E-05 | 0:15:55.761909\n",
      " Epoch 0034: | Train Loss: 2.94E-07 | Val Loss: 2.83E-07 | lr: 1.12E-05 | 0:16:22.764424\n",
      " Epoch 0035: | Train Loss: 2.87E-07 | Val Loss: 2.76E-07 | lr: 1.14E-05 | 0:16:54.220769\n",
      " Epoch 0036: | Train Loss: 2.81E-07 | Val Loss: 2.99E-07 | lr: 1.16E-05 | 0:17:23.111272\n",
      " Epoch 0037: | Train Loss: 2.74E-07 | Val Loss: 2.65E-07 | lr: 1.17E-05 | 0:17:48.611465\n",
      " Epoch 0038: | Train Loss: 2.68E-07 | Val Loss: 2.73E-07 | lr: 1.19E-05 | 0:18:13.933117\n",
      " Epoch 0039: | Train Loss: 2.63E-07 | Val Loss: 2.72E-07 | lr: 1.21E-05 | 0:18:39.670729\n",
      " Epoch 0040: | Train Loss: 2.58E-07 | Val Loss: 2.65E-07 | lr: 1.23E-05 | 0:19:05.467930\n",
      " Epoch 0041: | Train Loss: 2.53E-07 | Val Loss: 2.55E-07 | lr: 1.25E-05 | 0:19:38.806100\n",
      " Epoch 0042: | Train Loss: 2.48E-07 | Val Loss: 2.46E-07 | lr: 1.27E-05 | 0:20:08.158752\n",
      " Epoch 0043: | Train Loss: 2.44E-07 | Val Loss: 2.41E-07 | lr: 1.29E-05 | 0:20:36.586474\n",
      " Epoch 0044: | Train Loss: 2.40E-07 | Val Loss: 2.43E-07 | lr: 1.31E-05 | 0:21:03.000568\n",
      " Epoch 0045: | Train Loss: 2.36E-07 | Val Loss: 2.24E-07 | lr: 1.33E-05 | 0:21:32.175982\n",
      " Epoch 0046: | Train Loss: 2.32E-07 | Val Loss: 2.20E-07 | lr: 1.35E-05 | 0:21:57.918946\n",
      " Epoch 0047: | Train Loss: 2.29E-07 | Val Loss: 2.58E-07 | lr: 1.38E-05 | 0:22:26.576449\n",
      " Epoch 0048: | Train Loss: 2.26E-07 | Val Loss: 2.11E-07 | lr: 1.40E-05 | 0:22:53.056279\n",
      " Epoch 0049: | Train Loss: 2.23E-07 | Val Loss: 2.06E-07 | lr: 1.42E-05 | 0:23:27.807382\n",
      " Epoch 0050: | Train Loss: 2.20E-07 | Val Loss: 2.10E-07 | lr: 1.45E-05 | 0:23:57.192309\n",
      " Epoch 0051: | Train Loss: 2.17E-07 | Val Loss: 2.02E-07 | lr: 1.47E-05 | 0:24:34.651130\n",
      " Epoch 0052: | Train Loss: 2.15E-07 | Val Loss: 1.95E-07 | lr: 1.50E-05 | 0:25:05.316943\n",
      " Epoch 0053: | Train Loss: 2.13E-07 | Val Loss: 1.95E-07 | lr: 1.52E-05 | 0:25:42.176851\n",
      " Epoch 0054: | Train Loss: 2.11E-07 | Val Loss: 1.97E-07 | lr: 1.55E-05 | 0:26:21.453544\n",
      " Epoch 0055: | Train Loss: 2.09E-07 | Val Loss: 2.03E-07 | lr: 1.57E-05 | 0:26:56.696728\n",
      " Epoch 0056: | Train Loss: 2.07E-07 | Val Loss: 1.84E-07 | lr: 1.60E-05 | 0:27:27.680957\n",
      " Epoch 0057: | Train Loss: 2.05E-07 | Val Loss: 2.07E-07 | lr: 1.63E-05 | 0:28:04.176658\n",
      " Epoch 0058: | Train Loss: 2.04E-07 | Val Loss: 4.51E-07 | lr: 1.65E-05 | 0:28:40.094213\n",
      " Epoch 0059: | Train Loss: 2.03E-07 | Val Loss: 1.75E-07 | lr: 1.68E-05 | 0:29:12.210568\n",
      " Epoch 0060: | Train Loss: 2.01E-07 | Val Loss: 1.83E-07 | lr: 1.71E-05 | 0:29:43.651525\n",
      " Epoch 0061: | Train Loss: 2.00E-07 | Val Loss: 1.71E-07 | lr: 1.74E-05 | 0:30:17.081803\n",
      " Epoch 0062: | Train Loss: 1.99E-07 | Val Loss: 2.03E-07 | lr: 1.77E-05 | 0:30:48.316505\n",
      " Epoch 0063: | Train Loss: 1.98E-07 | Val Loss: 1.68E-07 | lr: 1.80E-05 | 0:31:19.972283\n",
      " Epoch 0064: | Train Loss: 1.98E-07 | Val Loss: 1.72E-07 | lr: 1.82E-05 | 0:31:50.758476\n",
      " Epoch 0065: | Train Loss: 1.97E-07 | Val Loss: 1.91E-07 | lr: 1.85E-05 | 0:32:27.345703\n",
      " Epoch 0066: | Train Loss: 1.96E-07 | Val Loss: 2.72E-07 | lr: 1.89E-05 | 0:33:00.274776\n"
     ]
    },
    {
     "name": "stdout",
     "output_type": "stream",
     "text": [
      " Epoch 0067: | Train Loss: 1.96E-07 | Val Loss: 1.86E-07 | lr: 1.92E-05 | 0:33:34.734555\n",
      " Epoch 0068: | Train Loss: 1.96E-07 | Val Loss: 1.61E-07 | lr: 1.95E-05 | 0:34:01.385597\n",
      " Epoch 0069: | Train Loss: 1.96E-07 | Val Loss: 1.83E-07 | lr: 1.98E-05 | 0:34:33.169654\n",
      " Epoch 0070: | Train Loss: 1.96E-07 | Val Loss: 4.16E-07 | lr: 2.01E-05 | 0:35:07.698909\n",
      " Epoch 0071: | Train Loss: 1.96E-07 | Val Loss: 3.05E-07 | lr: 2.04E-05 | 0:35:38.925565\n",
      " Epoch 0072: | Train Loss: 1.96E-07 | Val Loss: 3.59E-07 | lr: 2.08E-05 | 0:36:09.025927\n",
      " Epoch 0073: | Train Loss: 1.96E-07 | Val Loss: 1.50E-07 | lr: 2.11E-05 | 0:36:38.237280\n",
      " Epoch 0074: | Train Loss: 1.97E-07 | Val Loss: 2.30E-07 | lr: 2.14E-05 | 0:37:04.946918\n",
      " Epoch 0075: | Train Loss: 1.98E-07 | Val Loss: 1.49E-07 | lr: 2.18E-05 | 0:37:33.373200\n",
      " Epoch 0076: | Train Loss: 1.98E-07 | Val Loss: 4.56E-07 | lr: 2.21E-05 | 0:38:09.957366\n",
      " Epoch 0077: | Train Loss: 1.99E-07 | Val Loss: 2.27E-07 | lr: 2.24E-05 | 0:38:41.415881\n",
      " Epoch 0078: | Train Loss: 2.00E-07 | Val Loss: 1.68E-07 | lr: 2.28E-05 | 0:39:08.437738\n",
      " Epoch 0079: | Train Loss: 2.01E-07 | Val Loss: 2.19E-07 | lr: 2.31E-05 | 0:39:44.001733\n"
     ]
    }
   ],
   "source": [
    "history,model_state_dict,opt_state_dict = util.train(\n",
    "    model,xn,yn,\n",
    "    **train_info,\n",
    "    verbose = True,\n",
    "    )"
   ]
  },
  {
   "cell_type": "code",
   "execution_count": 49,
   "id": "1a5c235d",
   "metadata": {},
   "outputs": [
    {
     "data": {
      "image/png": "[encoded data removed]",
      "text/plain": [
       "<Figure size 960x288 with 3 Axes>"
      ]
     },
     "metadata": {},
     "output_type": "display_data"
    }
   ],
   "source": [
    "fig,ax=plt.subplots(1,2,figsize=(10,3),dpi=96)\n",
    "ax[0].semilogy(history['val_loss'],label='val_loss')\n",
    "ax[0].semilogy(history['train_loss'],label='train_loss')\n",
    "ax[0].legend()\n",
    "axx = ax[0].twinx()\n",
    "axx.plot(history['lr'],label='lr',color='k')\n",
    "axx.legend(loc='upper center')\n",
    "\n",
    "ax[1].semilogy(history['val_loss'][-int(0.1*EPOCHs):],label='val_loss')\n",
    "ax[1].semilogy(history['train_loss'][-int(0.1*EPOCHs):],label='train_loss')\n",
    "ax[1].legend()\n",
    "fig.tight_layout()"
   ]
  },
  {
   "cell_type": "code",
   "execution_count": 38,
   "id": "4df5cfab",
   "metadata": {},
   "outputs": [
    {
     "data": {
      "text/plain": [
       "(3.937140040823408e-10, 3.965561161674249e-10)"
      ]
     },
     "execution_count": 38,
     "metadata": {},
     "output_type": "execute_result"
    }
   ],
   "source": [
    "np.min(history['train_loss']), np.min(history['val_loss'])"
   ]
  },
  {
   "cell_type": "markdown",
   "id": "8ded289b",
   "metadata": {
    "papermill": {
     "duration": 0.011827,
     "end_time": "2023-03-27T09:35:22.172887",
     "exception": false,
     "start_time": "2023-03-27T09:35:22.161060",
     "status": "completed"
    },
    "tags": []
   },
   "source": [
    "# loaded model test, w jit, "
   ]
  },
  {
   "cell_type": "code",
   "execution_count": 39,
   "id": "15ab5ead",
   "metadata": {},
   "outputs": [],
   "source": [
    "model_info = json.load(open(MODEL_PATH + 'model_info.json','r'))\n",
    "scalar = util.scalar(fname=MODEL_PATH + 'scalar_info.pkl')"
   ]
  },
  {
   "cell_type": "markdown",
   "id": "c7f33d29",
   "metadata": {},
   "source": [
    "### model time cost"
   ]
  },
  {
   "cell_type": "markdown",
   "id": "25c50a6c",
   "metadata": {},
   "source": [
    "##### w/o JIT"
   ]
  },
  {
   "cell_type": "code",
   "execution_count": 40,
   "id": "5f1b1701",
   "metadata": {},
   "outputs": [],
   "source": [
    "model, _ = util.construct_model(**model_info)\n",
    "model.to('cpu').to(DTYPE);\n",
    "model.load_state_dict(torch.load(MODEL_PATH+'model.pt',map_location=torch.device('cpu')))\n",
    "model.eval();"
   ]
  },
  {
   "cell_type": "code",
   "execution_count": 41,
   "id": "123d6d41",
   "metadata": {},
   "outputs": [
    {
     "name": "stdout",
     "output_type": "stream",
     "text": [
      "dt: 137.219328135252 micro-sec\n"
     ]
    }
   ],
   "source": [
    "test_x = torch.tensor(xn[:1,:],dtype=DTYPE)\n",
    "\n",
    "def test():\n",
    "    model(test_x)\n",
    "t = timeit.Timer(test)\n",
    "dt = t.timeit(number=100000)/100000\n",
    "print('dt:',dt*1e6,'micro-sec')"
   ]
  },
  {
   "cell_type": "markdown",
   "id": "7126cbe6",
   "metadata": {},
   "source": [
    "##### w JIT"
   ]
  },
  {
   "cell_type": "code",
   "execution_count": 42,
   "id": "36ad20c4",
   "metadata": {},
   "outputs": [],
   "source": [
    "model, _ = util.construct_model(**model_info)\n",
    "model.to('cpu').to(DTYPE);\n",
    "my_script_module = torch.jit.script(model)\n",
    "my_script_module.load_state_dict(torch.load(MODEL_PATH+'model.pt',map_location=torch.device('cpu')))\n",
    "my_script_module.eval();"
   ]
  },
  {
   "cell_type": "code",
   "execution_count": 43,
   "id": "57025b2e",
   "metadata": {},
   "outputs": [
    {
     "name": "stdout",
     "output_type": "stream",
     "text": [
      "dt: 119.34411529451609 micro-sec\n"
     ]
    }
   ],
   "source": [
    "def test():\n",
    "    my_script_module(test_x)\n",
    "t = timeit.Timer(test)\n",
    "dt = t.timeit(number=100000)/100000\n",
    "print('dt:',dt*1e6,'micro-sec')"
   ]
  },
  {
   "cell_type": "markdown",
   "id": "c94ee66e",
   "metadata": {
    "papermill": {
     "duration": 0.012728,
     "end_time": "2023-03-27T09:50:19.972019",
     "exception": false,
     "start_time": "2023-03-27T09:50:19.959291",
     "status": "completed"
    },
    "tags": []
   },
   "source": [
    "# validation"
   ]
  },
  {
   "cell_type": "code",
   "execution_count": 44,
   "id": "5286981f",
   "metadata": {},
   "outputs": [
    {
     "data": {
      "text/plain": [
       "((40265318, 4), (40265318, 2), (40265318, 2))"
      ]
     },
     "execution_count": 44,
     "metadata": {},
     "output_type": "execute_result"
    }
   ],
   "source": [
    "nval = int(validation_split*len(x))\n",
    "xval = xn[:nval]\n",
    "yval = yn[:nval]\n",
    "yval_true_phys = y[:nval]\n",
    "\n",
    "xval.shape, yval.shape, yval_true_phys.shape"
   ]
  },
  {
   "cell_type": "code",
   "execution_count": 45,
   "id": "401c143f",
   "metadata": {},
   "outputs": [
    {
     "data": {
      "text/plain": [
       "(8192, 40265318, 134217728)"
      ]
     },
     "execution_count": 45,
     "metadata": {},
     "output_type": "execute_result"
    }
   ],
   "source": [
    "BATCH_SIZE, nval, len(x)"
   ]
  },
  {
   "cell_type": "code",
   "execution_count": 46,
   "id": "29736e1f",
   "metadata": {
    "execution": {
     "iopub.execute_input": "2023-03-27T09:50:20.037628Z",
     "iopub.status.busy": "2023-03-27T09:50:20.037174Z",
     "iopub.status.idle": "2023-03-27T09:51:44.021040Z",
     "shell.execute_reply": "2023-03-27T09:51:44.019597Z"
    },
    "papermill": {
     "duration": 84.001581,
     "end_time": "2023-03-27T09:51:44.024309",
     "exception": false,
     "start_time": "2023-03-27T09:50:20.022728",
     "status": "completed"
    },
    "tags": []
   },
   "outputs": [],
   "source": [
    "nbatch = int(len(xval)/BATCH_SIZE)\n",
    "yval_pred = []\n",
    "for i in range(nbatch):\n",
    "    i1 = i*BATCH_SIZE\n",
    "    i2 = i1+BATCH_SIZE\n",
    "    x_ = torch.tensor(xval[i1:i2,:],dtype=DTYPE)\n",
    "    with torch.no_grad():\n",
    "        yval_pred.append( my_script_module(x_).cpu().numpy() )\n",
    "        \n",
    "x_ = torch.tensor(xval[i2:,:],dtype=DTYPE)\n",
    "with torch.no_grad():\n",
    "    yval_pred.append( my_script_module(x_).cpu().numpy() )\n",
    "    \n",
    "yval_pred_phys = scalar.unnormalize_y(np.concatenate(yval_pred,axis=0))"
   ]
  },
  {
   "cell_type": "code",
   "execution_count": 47,
   "id": "91c061a5",
   "metadata": {},
   "outputs": [
    {
     "data": {
      "text/plain": [
       "((40265318, 2), (40265318, 2))"
      ]
     },
     "execution_count": 47,
     "metadata": {},
     "output_type": "execute_result"
    }
   ],
   "source": [
    "yval_pred_phys.shape, yval_true_phys.shape"
   ]
  },
  {
   "cell_type": "code",
   "execution_count": 48,
   "id": "a63253ee",
   "metadata": {},
   "outputs": [
    {
     "data": {
      "image/png": "[encoded data removed]",
      "text/plain": [
       "<Figure size 800x200 with 2 Axes>"
      ]
     },
     "metadata": {},
     "output_type": "display_data"
    }
   ],
   "source": [
    "diff_model = np.abs(yval_pred_phys-yval_true_phys)\n",
    "\n",
    "fig,ax = plt.subplots(1,2,figsize=(8,2))\n",
    "ax[0].hist(diff_model[:,0]/np.pi*180,bins=64,label='model err',alpha=0.9,density=True)\n",
    "ax[0].legend()\n",
    "ax[0].set_yscale('log')\n",
    "ax[0].set_xlabel(Y_LABELs[0]+\" degree\")\n",
    "\n",
    "ax[1].hist(diff_model[:,1]*1e-5,bins=64,label='model err',alpha=0.9,density=True)\n",
    "ax[1].legend()\n",
    "ax[1].set_yscale('log')\n",
    "ax[1].set_xlabel(Y_LABELs[1]+\" (KeV/u)\")\n",
    "\n",
    "fig.tight_layout()\n",
    "fig.savefig(MODEL_PATH+'plot_validation.png',dpi=64)"
   ]
  }
 ],
 "metadata": {
  "kernelspec": {
   "display_name": "Python 3 (ipykernel)",
   "language": "python",
   "name": "python3"
  },
  "language_info": {
   "codemirror_mode": {
    "name": "ipython",
    "version": 3
   },
   "file_extension": ".py",
   "mimetype": "text/x-python",
   "name": "python",
   "nbconvert_exporter": "python",
   "pygments_lexer": "ipython3",
   "version": "3.10.12"
  },
  "papermill": {
   "default_parameters": {},
   "duration": 36218.614345,
   "end_time": "2023-03-27T09:51:47.916113",
   "environment_variables": {},
   "exception": null,
   "input_path": "__notebook__.ipynb",
   "output_path": "__notebook__.ipynb",
   "parameters": {},
   "start_time": "2023-03-26T23:48:09.301768",
   "version": "2.4.0"
  }
 },
 "nbformat": 4,
 "nbformat_minor": 5
}
