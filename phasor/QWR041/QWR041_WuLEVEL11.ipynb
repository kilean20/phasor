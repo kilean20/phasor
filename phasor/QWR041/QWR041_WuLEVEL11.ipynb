{
 "cells": [
  {
   "cell_type": "code",
   "execution_count": 1,
   "id": "3d792953",
   "metadata": {
    "_cell_guid": "b1076dfc-b9ad-4769-8c92-a6c4dae69d19",
    "_uuid": "8f2839f25d086af736a60e9eeb907d3b93b6e0e5",
    "execution": {
     "iopub.execute_input": "2023-03-26T23:48:24.987101Z",
     "iopub.status.busy": "2023-03-26T23:48:24.986464Z",
     "iopub.status.idle": "2023-03-26T23:48:29.527726Z",
     "shell.execute_reply": "2023-03-26T23:48:29.525104Z"
    },
    "papermill": {
     "duration": 4.560568,
     "end_time": "2023-03-26T23:48:29.532368",
     "exception": false,
     "start_time": "2023-03-26T23:48:24.971800",
     "status": "completed"
    },
    "tags": []
   },
   "outputs": [],
   "source": [
    "import numpy as np\n",
    "import matplotlib.pyplot as plt\n",
    "import sklearn\n",
    "import pandas as pd\n",
    "import time\n",
    "import os\n",
    "import pickle\n",
    "import json\n",
    "import timeit\n",
    "import datetime\n",
    "from copy import deepcopy as copy"
   ]
  },
  {
   "cell_type": "code",
   "execution_count": null,
   "id": "03473832",
   "metadata": {},
   "outputs": [],
   "source": [
    "import torch\n",
    "from torch.nn import functional as F\n",
    "torch.cuda.empty_cache()\n",
    "DTYPE = torch.float32\n",
    "DEVICE = torch.device(\"cuda:3\" if torch.cuda.is_available() else \"cpu\")\n",
    "DEVICE"
   ]
  },
  {
   "cell_type": "code",
   "execution_count": null,
   "id": "c29b050c",
   "metadata": {},
   "outputs": [],
   "source": [
    "import sys\n",
    "sys.path.append('../../')"
   ]
  },
  {
   "cell_type": "code",
   "execution_count": null,
   "id": "de148cf5",
   "metadata": {},
   "outputs": [],
   "source": [
    "import IPS_surrogate_util as util"
   ]
  },
  {
   "cell_type": "code",
   "execution_count": null,
   "id": "7f887ecb",
   "metadata": {},
   "outputs": [],
   "source": [
    "beam_frequency = 80.5e6\n",
    "wavelength = 299792458 / beam_frequency\n",
    "phase_scan = np.arange(256)/256*2*np.pi-np.pi\n",
    "\n",
    "cav_type_name = 'QWR041' "
   ]
  },
  {
   "cell_type": "code",
   "execution_count": null,
   "id": "7328326b",
   "metadata": {},
   "outputs": [],
   "source": [
    "WuLEVEL = 11\n",
    "TEST = False\n",
    "\n",
    "BATCH_SIZE = 2**13 #8192\n",
    "LR = '1E-4'\n",
    "DROPOUT = False\n",
    "\n",
    "validation_split = 0.3\n",
    "hidden_nodes = [128,64,64,64,64]\n",
    "linear_nodes = 256\n",
    "activation = torch.nn.ELU()\n",
    "\n",
    "lr_scheduler = {'final_div_factor':1e3}"
   ]
  },
  {
   "cell_type": "code",
   "execution_count": null,
   "id": "673a76a2",
   "metadata": {},
   "outputs": [],
   "source": [
    "import sys\n",
    "sys.path.insert(0, '/home/hwang/libIPS')\n",
    "\n",
    "from info import info\n",
    "for k,v in info.items():\n",
    "    print(k)\n",
    "    for k_,v_ in v.items():\n",
    "        print(' ',k_+' '*(22-len(k_)),v_)"
   ]
  },
  {
   "cell_type": "code",
   "execution_count": null,
   "id": "8d9afacc",
   "metadata": {},
   "outputs": [],
   "source": [
    "W_u_range = info[cav_type_name]['W_u_range']\n",
    "field_amplitude_range = info[cav_type_name]['field_amplitude_range']\n",
    "qA_range = info[cav_type_name]['qA_range']\n",
    "cav_length = info[cav_type_name]['cav_length']\n",
    "nLEVEL = info[cav_type_name]['nLEVEL']"
   ]
  },
  {
   "cell_type": "code",
   "execution_count": null,
   "id": "9b5dd90f",
   "metadata": {},
   "outputs": [],
   "source": [
    "dW_LEVEL = (W_u_range[1]-W_u_range[0])/nLEVEL\n",
    "W_u_min = W_u_range[0] +WuLEVEL*dW_LEVEL \n",
    "W_u_max = W_u_range[0] +WuLEVEL*dW_LEVEL + 1.0*dW_LEVEL"
   ]
  },
  {
   "cell_type": "code",
   "execution_count": null,
   "id": "36755801",
   "metadata": {
    "execution": {
     "iopub.execute_input": "2023-03-26T23:48:44.206101Z",
     "iopub.status.busy": "2023-03-26T23:48:44.205613Z",
     "iopub.status.idle": "2023-03-26T23:48:44.213305Z",
     "shell.execute_reply": "2023-03-26T23:48:44.210755Z"
    },
    "papermill": {
     "duration": 0.024453,
     "end_time": "2023-03-26T23:48:44.216844",
     "exception": false,
     "start_time": "2023-03-26T23:48:44.192391",
     "status": "completed"
    },
    "tags": []
   },
   "outputs": [],
   "source": [
    "DATA_PATH = \"./data/\"\n",
    "MODEL_PATH = \"./WuLEVEL\"+str(WuLEVEL)#+\"_batchsize\"+str(BATCH_SIZE)+\"_lr\"+LR+'_'+'dtype'+str(DTYPE)[-2:]\n",
    "if DTYPE == torch.float64:\n",
    "    MODEL_PATH += '_dtype'+str(DTYPE)[-2:]\n",
    "MODEL_PATH += '/'\n",
    "LR = float(LR)\n",
    "os.makedirs(MODEL_PATH, exist_ok=True)"
   ]
  },
  {
   "cell_type": "code",
   "execution_count": null,
   "id": "8d1d4d25",
   "metadata": {
    "execution": {
     "iopub.execute_input": "2023-03-26T23:48:44.240420Z",
     "iopub.status.busy": "2023-03-26T23:48:44.239971Z",
     "iopub.status.idle": "2023-03-26T23:48:44.248341Z",
     "shell.execute_reply": "2023-03-26T23:48:44.246407Z"
    },
    "papermill": {
     "duration": 0.024354,
     "end_time": "2023-03-26T23:48:44.251685",
     "exception": false,
     "start_time": "2023-03-26T23:48:44.227331",
     "status": "completed"
    },
    "tags": []
   },
   "outputs": [],
   "source": [
    "EPOCHs = 6000  # may increase later... \n",
    "if TEST:\n",
    "    EPOCHs = 100 #int(0.01*EPOCHs)"
   ]
  },
  {
   "cell_type": "code",
   "execution_count": null,
   "id": "99c3d653",
   "metadata": {
    "execution": {
     "iopub.execute_input": "2023-03-26T23:49:23.541235Z",
     "iopub.status.busy": "2023-03-26T23:49:23.540774Z",
     "iopub.status.idle": "2023-03-26T23:49:23.548881Z",
     "shell.execute_reply": "2023-03-26T23:49:23.546926Z"
    },
    "papermill": {
     "duration": 0.026282,
     "end_time": "2023-03-26T23:49:23.553089",
     "exception": false,
     "start_time": "2023-03-26T23:49:23.526807",
     "status": "completed"
    },
    "tags": []
   },
   "outputs": [],
   "source": [
    "def Wu2beta(w_u):\n",
    "    gamma = 1.+w_u/931.5e6\n",
    "    return np.sqrt(1.0 - 1.0 / gamma ** 2)\n",
    "def beta2Wu(beta):\n",
    "    gamma = np.sqrt(1./(1.-beta**2))\n",
    "    return (gamma-1.)*931.5e6"
   ]
  },
  {
   "cell_type": "markdown",
   "id": "3d08464e",
   "metadata": {
    "papermill": {
     "duration": 0.010799,
     "end_time": "2023-03-26T23:48:44.408486",
     "exception": false,
     "start_time": "2023-03-26T23:48:44.397687",
     "status": "completed"
    },
    "tags": []
   },
   "source": [
    "# Read data of selected Wu level"
   ]
  },
  {
   "cell_type": "code",
   "execution_count": null,
   "id": "b8f9f864",
   "metadata": {},
   "outputs": [],
   "source": [
    "fname = os.path.join(DATA_PATH,cav_type_name+'_pd'+str(WuLEVEL)+'.pkl')\n",
    "# fname = os.path.join('./',cav_type_name+'_pd'+str(WuLEVEL)+'.pkl')\n",
    "df = pd.DataFrame(pickle.load(open(fname,'rb')))\n",
    "df.columns"
   ]
  },
  {
   "cell_type": "markdown",
   "id": "eb668f5d",
   "metadata": {},
   "source": [
    "### construct minmax scalar"
   ]
  },
  {
   "cell_type": "code",
   "execution_count": null,
   "id": "237c6454",
   "metadata": {},
   "outputs": [],
   "source": [
    "Y_LABELs = ['dTau', 'dW_u']\n",
    "y = df[Y_LABELs].values\n",
    "\n",
    "Y_MIN = y.min(axis=0) #util.format_floats(y.min(axis=0),num_digits=4)\n",
    "Y_MAX = y.max(axis=0) #util.format_floats(y.max(axis=0),num_digits=4)\n",
    "print(\"Y_LABELs\",Y_LABELs)\n",
    "print(\"Y_MIN\",Y_MIN)\n",
    "print(\"Y_MAX\",Y_MAX)\n",
    "print(\"y.shape\",y.shape)"
   ]
  },
  {
   "cell_type": "code",
   "execution_count": null,
   "id": "a1f28686",
   "metadata": {},
   "outputs": [],
   "source": [
    "X_LABELs = ['phase', 'W/u in', 'Cav amplitude in', 'qA']\n",
    "x = df[X_LABELs].values\n",
    "\n",
    "X_MIN = [ 0,W_u_min,                       0, qA_range[0]]\n",
    "X_MAX = [ 1,W_u_max,field_amplitude_range[1], qA_range[1]] \n",
    "\n",
    "print(\"X_LABELs\",X_LABELs)\n",
    "print(\"X_MIN\",X_MIN)\n",
    "print(\"X_MAX\",X_MAX)"
   ]
  },
  {
   "cell_type": "code",
   "execution_count": null,
   "id": "967ba672",
   "metadata": {},
   "outputs": [],
   "source": [
    "normalization_info = {'xmin':X_MIN,'xmax':X_MAX,\n",
    "                      'ymin':Y_MIN,'ymax':Y_MAX,\n",
    "                      'fname':MODEL_PATH+'scalar_info.pkl'}\n",
    "scalar = util.scalar(**normalization_info)"
   ]
  },
  {
   "cell_type": "markdown",
   "id": "a9ce54f5",
   "metadata": {},
   "source": [
    "### apply normalization"
   ]
  },
  {
   "cell_type": "code",
   "execution_count": null,
   "id": "9f9a1835",
   "metadata": {},
   "outputs": [],
   "source": [
    "# p = np.random.permutation(len(x))\n",
    "# x = x[p]\n",
    "# y = y[p]"
   ]
  },
  {
   "cell_type": "code",
   "execution_count": null,
   "id": "5a6c5ef0",
   "metadata": {},
   "outputs": [],
   "source": [
    "xn = scalar.normalize_x(x)\n",
    "yn = scalar.normalize_y(y)\n",
    "fig,ax = plt.subplots(2,2,figsize=(8,4))\n",
    "ax[0,0].hist(xn[:,0],alpha=0.8,density=True,label=X_LABELs[0]);\n",
    "ax[0,0].legend()\n",
    "ax[0,1].hist(xn[:,1],alpha=0.4,density=True,label=X_LABELs[1]);\n",
    "ax[0,1].hist(xn[:,2],alpha=0.4,density=True,label=X_LABELs[2]);\n",
    "ax[0,1].hist(xn[:,3],alpha=0.8,density=True,label=X_LABELs[3]);\n",
    "ax[0,1].legend()\n",
    "ax[1,0].hist(yn[:,0],alpha=0.8,density=True,label=Y_LABELs[0]);\n",
    "ax[1,0].legend()\n",
    "ax[1,1].hist(yn[:,1],alpha=0.8,density=True,label=Y_LABELs[1]);\n",
    "ax[1,1].legend()"
   ]
  },
  {
   "cell_type": "markdown",
   "id": "948b6799",
   "metadata": {},
   "source": [
    "# Train "
   ]
  },
  {
   "cell_type": "code",
   "execution_count": null,
   "id": "3eaae2c5",
   "metadata": {
    "execution": {
     "iopub.execute_input": "2023-03-26T23:49:25.776718Z",
     "iopub.status.busy": "2023-03-26T23:49:25.776154Z",
     "iopub.status.idle": "2023-03-26T23:49:25.902140Z",
     "shell.execute_reply": "2023-03-26T23:49:25.900011Z"
    },
    "papermill": {
     "duration": 0.142619,
     "end_time": "2023-03-26T23:49:25.905148",
     "exception": false,
     "start_time": "2023-03-26T23:49:25.762529",
     "status": "completed"
    },
    "tags": []
   },
   "outputs": [],
   "source": [
    "model, model_info = util.construct_model(\n",
    "                                        input_dim  = xn.shape[1],\n",
    "                                        output_dim  = yn.shape[1],\n",
    "                                        input_phase_feature_dim = 1,        \n",
    "                                        linear_nodes = linear_nodes,\n",
    "                                        hidden_nodes = hidden_nodes,\n",
    "                                        activation = activation)\n",
    "model.to(DEVICE).to(DTYPE);"
   ]
  },
  {
   "cell_type": "code",
   "execution_count": null,
   "id": "dc475d8c",
   "metadata": {},
   "outputs": [],
   "source": [
    "p = model.parameters().__next__()\n",
    "p.dtype, p.device"
   ]
  },
  {
   "cell_type": "code",
   "execution_count": null,
   "id": "a45cd858",
   "metadata": {},
   "outputs": [],
   "source": [
    "json.dump(model_info,open(MODEL_PATH+'model_info.json','w'))\n",
    "model_info"
   ]
  },
  {
   "cell_type": "code",
   "execution_count": null,
   "id": "67537642",
   "metadata": {},
   "outputs": [],
   "source": [
    "torch.nn.MSELoss.__name__"
   ]
  },
  {
   "cell_type": "code",
   "execution_count": null,
   "id": "607b5eb1",
   "metadata": {},
   "outputs": [],
   "source": [
    "train_info = {\n",
    "    'epochs':EPOCHs,\n",
    "    'lr':LR,\n",
    "    'batch_size':BATCH_SIZE,\n",
    "    'criterion': torch.nn.MSELoss.__name__,\n",
    "    'optimizer': torch.optim.Adam.__name__,\n",
    "    'optim_args': None,\n",
    "    'lr_scheduler': lr_scheduler,\n",
    "    'dropout_stabilization': DROPOUT,\n",
    "    'shuffle':True,\n",
    "    'load_best':True,\n",
    "    'validation_split':validation_split,\n",
    "    'fname_model'  : MODEL_PATH + 'model.pt',\n",
    "    'fname_opt'    : MODEL_PATH + 'optimizer.pt',\n",
    "    'fname_history': MODEL_PATH + 'train_history.pkl'\\\n",
    "}"
   ]
  },
  {
   "cell_type": "code",
   "execution_count": null,
   "id": "bda48515",
   "metadata": {
    "scrolled": false
   },
   "outputs": [],
   "source": [
    "history,model_state_dict,opt_state_dict = util.train(\n",
    "    model,xn,yn,\n",
    "    **train_info,\n",
    "    verbose = True,\n",
    "    )"
   ]
  },
  {
   "cell_type": "code",
   "execution_count": 37,
   "id": "1a5c235d",
   "metadata": {},
   "outputs": [
    {
     "data": {
      "image/png": "[encoded data removed]",
      "text/plain": [
       "<Figure size 960x288 with 3 Axes>"
      ]
     },
     "metadata": {},
     "output_type": "display_data"
    }
   ],
   "source": [
    "fig,ax=plt.subplots(1,2,figsize=(10,3),dpi=96)\n",
    "ax[0].semilogy(history['val_loss'],label='val_loss')\n",
    "ax[0].semilogy(history['train_loss'],label='train_loss')\n",
    "ax[0].legend()\n",
    "axx = ax[0].twinx()\n",
    "axx.plot(history['lr'],label='lr',color='k')\n",
    "axx.legend(loc='upper center')\n",
    "\n",
    "ax[1].semilogy(history['val_loss'][-int(0.1*EPOCHs):],label='val_loss')\n",
    "ax[1].semilogy(history['train_loss'][-int(0.1*EPOCHs):],label='train_loss')\n",
    "ax[1].legend()\n",
    "fig.tight_layout()"
   ]
  },
  {
   "cell_type": "code",
   "execution_count": 38,
   "id": "4df5cfab",
   "metadata": {},
   "outputs": [
    {
     "data": {
      "text/plain": [
       "(2.9387411808949e-10, 2.943617819235609e-10)"
      ]
     },
     "execution_count": 38,
     "metadata": {},
     "output_type": "execute_result"
    }
   ],
   "source": [
    "np.min(history['train_loss']), np.min(history['val_loss'])"
   ]
  },
  {
   "cell_type": "markdown",
   "id": "8ded289b",
   "metadata": {
    "papermill": {
     "duration": 0.011827,
     "end_time": "2023-03-27T09:35:22.172887",
     "exception": false,
     "start_time": "2023-03-27T09:35:22.161060",
     "status": "completed"
    },
    "tags": []
   },
   "source": [
    "# loaded model test, w jit, "
   ]
  },
  {
   "cell_type": "code",
   "execution_count": 39,
   "id": "15ab5ead",
   "metadata": {},
   "outputs": [],
   "source": [
    "model_info = json.load(open(MODEL_PATH + 'model_info.json','r'))\n",
    "scalar = util.scalar(fname=MODEL_PATH + 'scalar_info.pkl')"
   ]
  },
  {
   "cell_type": "markdown",
   "id": "c7f33d29",
   "metadata": {},
   "source": [
    "### model time cost"
   ]
  },
  {
   "cell_type": "markdown",
   "id": "25c50a6c",
   "metadata": {},
   "source": [
    "##### w/o JIT"
   ]
  },
  {
   "cell_type": "code",
   "execution_count": 40,
   "id": "5f1b1701",
   "metadata": {},
   "outputs": [],
   "source": [
    "model, _ = util.construct_model(**model_info)\n",
    "model.to('cpu').to(DTYPE);\n",
    "model.load_state_dict(torch.load(MODEL_PATH+'model.pt',map_location=torch.device('cpu')))\n",
    "model.eval();"
   ]
  },
  {
   "cell_type": "code",
   "execution_count": 41,
   "id": "123d6d41",
   "metadata": {},
   "outputs": [
    {
     "name": "stdout",
     "output_type": "stream",
     "text": [
      "dt: 160.2597863599658 micro-sec\n"
     ]
    }
   ],
   "source": [
    "test_x = torch.tensor(xn[:1,:],dtype=DTYPE)\n",
    "\n",
    "def test():\n",
    "    model(test_x)\n",
    "t = timeit.Timer(test)\n",
    "dt = t.timeit(number=100000)/100000\n",
    "print('dt:',dt*1e6,'micro-sec')"
   ]
  },
  {
   "cell_type": "markdown",
   "id": "7126cbe6",
   "metadata": {},
   "source": [
    "##### w JIT"
   ]
  },
  {
   "cell_type": "code",
   "execution_count": 42,
   "id": "36ad20c4",
   "metadata": {},
   "outputs": [],
   "source": [
    "model, _ = util.construct_model(**model_info)\n",
    "model.to('cpu').to(DTYPE);\n",
    "my_script_module = torch.jit.script(model)\n",
    "my_script_module.load_state_dict(torch.load(MODEL_PATH+'model.pt',map_location=torch.device('cpu')))\n",
    "my_script_module.eval();"
   ]
  },
  {
   "cell_type": "code",
   "execution_count": 43,
   "id": "57025b2e",
   "metadata": {},
   "outputs": [
    {
     "name": "stdout",
     "output_type": "stream",
     "text": [
      "dt: 92.45558623224497 micro-sec\n"
     ]
    }
   ],
   "source": [
    "def test():\n",
    "    my_script_module(test_x)\n",
    "t = timeit.Timer(test)\n",
    "dt = t.timeit(number=100000)/100000\n",
    "print('dt:',dt*1e6,'micro-sec')"
   ]
  },
  {
   "cell_type": "markdown",
   "id": "c94ee66e",
   "metadata": {
    "papermill": {
     "duration": 0.012728,
     "end_time": "2023-03-27T09:50:19.972019",
     "exception": false,
     "start_time": "2023-03-27T09:50:19.959291",
     "status": "completed"
    },
    "tags": []
   },
   "source": [
    "# validation"
   ]
  },
  {
   "cell_type": "code",
   "execution_count": 44,
   "id": "5286981f",
   "metadata": {},
   "outputs": [
    {
     "data": {
      "text/plain": [
       "((40265318, 4), (40265318, 2), (40265318, 2))"
      ]
     },
     "execution_count": 44,
     "metadata": {},
     "output_type": "execute_result"
    }
   ],
   "source": [
    "nval = int(validation_split*len(x))\n",
    "xval = xn[:nval]\n",
    "yval = yn[:nval]\n",
    "yval_true_phys = y[:nval]\n",
    "\n",
    "xval.shape, yval.shape, yval_true_phys.shape"
   ]
  },
  {
   "cell_type": "code",
   "execution_count": 45,
   "id": "401c143f",
   "metadata": {},
   "outputs": [
    {
     "data": {
      "text/plain": [
       "(8192, 40265318, 134217728)"
      ]
     },
     "execution_count": 45,
     "metadata": {},
     "output_type": "execute_result"
    }
   ],
   "source": [
    "BATCH_SIZE, nval, len(x)"
   ]
  },
  {
   "cell_type": "code",
   "execution_count": 46,
   "id": "29736e1f",
   "metadata": {
    "execution": {
     "iopub.execute_input": "2023-03-27T09:50:20.037628Z",
     "iopub.status.busy": "2023-03-27T09:50:20.037174Z",
     "iopub.status.idle": "2023-03-27T09:51:44.021040Z",
     "shell.execute_reply": "2023-03-27T09:51:44.019597Z"
    },
    "papermill": {
     "duration": 84.001581,
     "end_time": "2023-03-27T09:51:44.024309",
     "exception": false,
     "start_time": "2023-03-27T09:50:20.022728",
     "status": "completed"
    },
    "tags": []
   },
   "outputs": [],
   "source": [
    "nbatch = int(len(xval)/BATCH_SIZE)\n",
    "yval_pred = []\n",
    "for i in range(nbatch):\n",
    "    i1 = i*BATCH_SIZE\n",
    "    i2 = i1+BATCH_SIZE\n",
    "    x_ = torch.tensor(xval[i1:i2,:],dtype=DTYPE)\n",
    "    with torch.no_grad():\n",
    "        yval_pred.append( my_script_module(x_).cpu().numpy() )\n",
    "        \n",
    "x_ = torch.tensor(xval[i2:,:],dtype=DTYPE)\n",
    "with torch.no_grad():\n",
    "    yval_pred.append( my_script_module(x_).cpu().numpy() )\n",
    "    \n",
    "yval_pred_phys = scalar.unnormalize_y(np.concatenate(yval_pred,axis=0))"
   ]
  },
  {
   "cell_type": "code",
   "execution_count": 47,
   "id": "91c061a5",
   "metadata": {},
   "outputs": [
    {
     "data": {
      "text/plain": [
       "((40265318, 2), (40265318, 2))"
      ]
     },
     "execution_count": 47,
     "metadata": {},
     "output_type": "execute_result"
    }
   ],
   "source": [
    "yval_pred_phys.shape, yval_true_phys.shape"
   ]
  },
  {
   "cell_type": "code",
   "execution_count": 48,
   "id": "a63253ee",
   "metadata": {},
   "outputs": [
    {
     "data": {
      "image/png": "[encoded data removed]",
      "text/plain": [
       "<Figure size 800x200 with 2 Axes>"
      ]
     },
     "metadata": {},
     "output_type": "display_data"
    }
   ],
   "source": [
    "diff_model = np.abs(yval_pred_phys-yval_true_phys)\n",
    "\n",
    "fig,ax = plt.subplots(1,2,figsize=(8,2))\n",
    "ax[0].hist(diff_model[:,0]/np.pi*180,bins=64,label='model err',alpha=0.9,density=True)\n",
    "ax[0].legend()\n",
    "ax[0].set_yscale('log')\n",
    "ax[0].set_xlabel(Y_LABELs[0]+\" degree\")\n",
    "\n",
    "ax[1].hist(diff_model[:,1]*1e-5,bins=64,label='model err',alpha=0.9,density=True)\n",
    "ax[1].legend()\n",
    "ax[1].set_yscale('log')\n",
    "ax[1].set_xlabel(Y_LABELs[1]+\" (KeV/u)\")\n",
    "\n",
    "fig.tight_layout()\n",
    "fig.savefig(MODEL_PATH+'plot_validation.png',dpi=64)"
   ]
  }
 ],
 "metadata": {
  "kernelspec": {
   "display_name": "Python 3 (ipykernel)",
   "language": "python",
   "name": "python3"
  },
  "language_info": {
   "codemirror_mode": {
    "name": "ipython",
    "version": 3
   },
   "file_extension": ".py",
   "mimetype": "text/x-python",
   "name": "python",
   "nbconvert_exporter": "python",
   "pygments_lexer": "ipython3",
   "version": "3.10.12"
  },
  "papermill": {
   "default_parameters": {},
   "duration": 36218.614345,
   "end_time": "2023-03-27T09:51:47.916113",
   "environment_variables": {},
   "exception": null,
   "input_path": "__notebook__.ipynb",
   "output_path": "__notebook__.ipynb",
   "parameters": {},
   "start_time": "2023-03-26T23:48:09.301768",
   "version": "2.4.0"
  }
 },
 "nbformat": 4,
 "nbformat_minor": 5
}
